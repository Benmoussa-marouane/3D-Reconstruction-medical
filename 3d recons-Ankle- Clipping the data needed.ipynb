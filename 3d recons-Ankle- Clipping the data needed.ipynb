{
 "cells": [
  {
   "cell_type": "code",
   "execution_count": 1,
   "metadata": {},
   "outputs": [
    {
     "name": "stdout",
     "output_type": "stream",
     "text": [
      "The history saving thread hit an unexpected error (OperationalError('database is locked',)).History will not be written to the database.\n"
     ]
    }
   ],
   "source": [
    "import vtk\n",
    "from vtk import vtkStructuredPointsReader\n",
    "from vtk.util import numpy_support\n",
    "import os\n",
    "import numpy\n",
    "import numpy.ma as ma\n",
    "import plotly\n",
    "from plotly.graph_objs import *\n",
    "plotly.plotly.sign_in(\"maroubenm\", \"MYtwtr0twNnh46fu2R9f\")"
   ]
  },
  {
   "cell_type": "code",
   "execution_count": 2,
   "metadata": {},
   "outputs": [],
   "source": [
    "def vtkImageToNumPy(image, pixelDims):\n",
    "    pointData = image.GetPointData()\n",
    "    arrayData = pointData.GetArray(0)\n",
    "    ArrayDicom = numpy_support.vtk_to_numpy(arrayData)\n",
    "    ArrayDicom = ArrayDicom.reshape(pixelDims, order='F')\n",
    "    return ArrayDicom"
   ]
  },
  {
   "cell_type": "code",
   "execution_count": 3,
   "metadata": {},
   "outputs": [
    {
     "data": {
      "text/plain": [
       "'class MyInteractorStyle(vtk.vtkInteractorStyleTrackballCamera):\\n\\n    def __init__(self, parent=None):\\n        self.AddObserver(\"MiddleButtonPressEvent\", self.middle_button_press_event)\\n        self.AddObserver(\"MiddleButtonReleaseEvent\", self.middle_button_release_event)\\n\\n    def middle_button_press_event(self, obj, event):\\n        print(\"Middle Button pressed\")\\n        self.OnMiddleButtonDown()\\n        return\\n\\n    def middle_button_release_event(self, obj, event):\\n        print(\"Middle Button released\")\\n        self.OnMiddleButtonUp()\\n        return'"
      ]
     },
     "execution_count": 3,
     "metadata": {},
     "output_type": "execute_result"
    }
   ],
   "source": [
    "\"\"\"class MyInteractorStyle(vtk.vtkInteractorStyleTrackballCamera):\n",
    "\n",
    "    def __init__(self, parent=None):\n",
    "        self.AddObserver(\"MiddleButtonPressEvent\", self.middle_button_press_event)\n",
    "        self.AddObserver(\"MiddleButtonReleaseEvent\", self.middle_button_release_event)\n",
    "\n",
    "    def middle_button_press_event(self, obj, event):\n",
    "        print(\"Middle Button pressed\")\n",
    "        self.OnMiddleButtonDown()\n",
    "        return\n",
    "\n",
    "    def middle_button_release_event(self, obj, event):\n",
    "        print(\"Middle Button released\")\n",
    "        self.OnMiddleButtonUp()\n",
    "        return\"\"\""
   ]
  },
  {
   "cell_type": "code",
   "execution_count": 4,
   "metadata": {},
   "outputs": [],
   "source": [
    "class MouseInteractorHighLightActor(vtk.vtkInteractorStyleTrackballCamera):\n",
    "    \n",
    "    def __init__(self,parent=None):\n",
    "        \n",
    "        self.AddObserver(\"LeftButtonPressEvent\",self.leftButtonPressEvent)\n",
    "        self.LastPickedActor = None\n",
    "        self.LastPickedProperty = vtk.vtkProperty()\n",
    " \n",
    "    def leftButtonPressEvent(self,obj,event):\n",
    "        \n",
    "        clickPos = self.GetInteractor().GetEventPosition()\n",
    "        picker = vtk.vtkPropPicker()\n",
    "        picker.Pick(clickPos[0], clickPos[1], 0, self.GetDefaultRenderer())\n",
    "        \n",
    "        #point.InsertNextPoint(clickPos[0],clickPos[1],0)\n",
    "        \n",
    "        \n",
    "        \n",
    "        # get the new\n",
    "        self.NewPickedActor = picker.GetActor()\n",
    "        \n",
    "        # If something was selected\n",
    "        if self.NewPickedActor:\n",
    "            # If we picked something before, reset its property\n",
    "            if self.LastPickedActor:\n",
    "                self.LastPickedActor.GetProperty().DeepCopy(self.LastPickedProperty)\n",
    "    \n",
    "            \n",
    "            # Save the property of the picked actor so that we can\n",
    "            # restore it next time\n",
    "            self.LastPickedProperty.DeepCopy(self.NewPickedActor.GetProperty())\n",
    "            # Highlight the picked actor by changing its properties\n",
    "            self.NewPickedActor.GetProperty().SetColor(1.0, 0.0, 0.0)\n",
    "            self.NewPickedActor.GetProperty().SetDiffuse(1.0)\n",
    "            self.NewPickedActor.GetProperty().SetSpecular(0.0)\n",
    "            \n",
    "            # save the last picked actor\n",
    "            self.LastPickedActor = self.NewPickedActor\n",
    "        \n",
    "        self.OnLeftButtonDown()\n",
    "        return\n"
   ]
  },
  {
   "cell_type": "code",
   "execution_count": 5,
   "metadata": {},
   "outputs": [],
   "source": [
    "def plotHeatmap(array, name=\"plot\"):\n",
    "    data = Data([ Heatmap( z=array,colorscale='Greys')])\n",
    "    layout = Layout(autosize=False,title=name)\n",
    "    fig = Figure(data=data,layout=layout)\n",
    "    return plotly.plotly.iplot(fig,filename=name)"
   ]
  },
  {
   "cell_type": "code",
   "execution_count": 6,
   "metadata": {},
   "outputs": [],
   "source": [
    "import vtk\n",
    "from IPython.display import Image\n",
    "def vtk_show(renderer, width=400, height=300):\n",
    "    \"\"\"\n",
    "    Takes vtkRenderer instance and returns an IPython Image with the rendering.\n",
    "    \"\"\"\n",
    "    renderWindow = vtk.vtkRenderWindow()\n",
    "    renderWindow.SetOffScreenRendering(1)\n",
    "    renderWindow.AddRenderer(renderer)\n",
    "    renderWindow.SetSize(width, height)\n",
    "    renderWindow.Render()\n",
    "     \n",
    "    windowToImageFilter = vtk.vtkWindowToImageFilter()\n",
    "    windowToImageFilter.SetInput(renderWindow)\n",
    "    windowToImageFilter.Update()\n",
    "     \n",
    "    writer = vtk.vtkPNGWriter()\n",
    "    writer.SetWriteToMemory(1)\n",
    "    writer.SetInputConnection(windowToImageFilter.GetOutputPort())\n",
    "    writer.Write()\n",
    "    data = str(buffer(writer.GetResult()))\n",
    "    \n",
    "    return Image(data)"
   ]
  },
  {
   "cell_type": "code",
   "execution_count": 7,
   "metadata": {},
   "outputs": [
    {
     "name": "stdout",
     "output_type": "stream",
     "text": [
      "[512, 512, 150]\n",
      "(1.0, 1.0, 1.0)\n",
      "(0.0, 0.0, 0.0)\n"
     ]
    }
   ],
   "source": [
    "PathDicom = \"D:\\\\aorte private data\\\\VHF-Ankle\\\\Ankle\"\n",
    "reader = vtk.vtkDICOMImageReader()\n",
    "reader.SetDirectoryName(PathDicom)\n",
    "reader.Update()\n",
    "                          \n",
    "_extent = reader.GetDataExtent()\n",
    "ConstPixelDims = [_extent[1]-_extent[0]+1, _extent[3]-_extent[2]+1, _extent[5]-_extent[4]+1]\n",
    "ConstPixelSpacing = reader.GetPixelSpacing()\n",
    "\n",
    "print ConstPixelDims\n",
    "\n",
    "print ConstPixelSpacing\n",
    "\n",
    "print reader.GetDataOrigin()"
   ]
  },
  {
   "cell_type": "code",
   "execution_count": 8,
   "metadata": {
    "scrolled": true
   },
   "outputs": [
    {
     "name": "stderr",
     "output_type": "stream",
     "text": [
      "C:\\Users\\hp\\Anaconda3\\envs\\python2\\lib\\site-packages\\plotly\\graph_objs\\_deprecations.py:39: DeprecationWarning:\n",
      "\n",
      "plotly.graph_objs.Data is deprecated.\n",
      "Please replace it with a list or tuple of instances of the following types\n",
      "  - plotly.graph_objs.Scatter\n",
      "  - plotly.graph_objs.Bar\n",
      "  - plotly.graph_objs.Area\n",
      "  - plotly.graph_objs.Histogram\n",
      "  - etc.\n",
      "\n",
      "\n"
     ]
    },
    {
     "name": "stdout",
     "output_type": "stream",
     "text": [
      "High five! You successfully sent some data to your account on plotly. View your plot in your browser at https://plot.ly/~maroubenm/0 or inside your plot.ly account where it is named 'CT_Original'\n"
     ]
    },
    {
     "data": {
      "text/html": [
       "<iframe id=\"igraph\" scrolling=\"no\" style=\"border:none;\" seamless=\"seamless\" src=\"https://plot.ly/~maroubenm/0.embed\" height=\"525px\" width=\"100%\"></iframe>"
      ],
      "text/plain": [
       "<plotly.tools.PlotlyDisplay object>"
      ]
     },
     "execution_count": 8,
     "metadata": {},
     "output_type": "execute_result"
    }
   ],
   "source": [
    "ArrayDicom = vtkImageToNumPy(reader.GetOutput(), ConstPixelDims)\n",
    "\n",
    "plotHeatmap(numpy.rot90(ArrayDicom[:,:,0]), name=\"CT_Original\")"
   ]
  },
  {
   "cell_type": "code",
   "execution_count": 9,
   "metadata": {},
   "outputs": [
    {
     "data": {
      "text/plain": [
       "'threshold = vtk.vtkImageThreshold ()\\nthreshold.SetInputConnection(reader.GetOutputPort())\\nthreshold.ThresholdByLower(400)  # remove all soft tissue\\nthreshold.ReplaceInOn()\\nthreshold.SetInValue(0)  # set all values below 400 to 0\\nthreshold.ReplaceOutOn()\\nthreshold.SetOutValue(1)  # set all values above 400 to 1\\nthreshold.Update()'"
      ]
     },
     "execution_count": 9,
     "metadata": {},
     "output_type": "execute_result"
    }
   ],
   "source": [
    "'''threshold = vtk.vtkImageThreshold ()\n",
    "threshold.SetInputConnection(reader.GetOutputPort())\n",
    "threshold.ThresholdByLower(400)  # remove all soft tissue\n",
    "threshold.ReplaceInOn()\n",
    "threshold.SetInValue(0)  # set all values below 400 to 0\n",
    "threshold.ReplaceOutOn()\n",
    "threshold.SetOutValue(1)  # set all values above 400 to 1\n",
    "threshold.Update()'''"
   ]
  },
  {
   "cell_type": "code",
   "execution_count": 10,
   "metadata": {},
   "outputs": [
    {
     "name": "stdout",
     "output_type": "stream",
     "text": [
      "(512L, 512L, 150L)\n",
      "vtkShortArray (00000000091CFBE0)\n",
      "  Debug: Off\n",
      "  Modified Time: 217\n",
      "  Reference Count: 1\n",
      "  Registered Events: (none)\n",
      "  Name: (none)\n",
      "  Data type: short\n",
      "  Size: 39321600\n",
      "  MaxId: 39321599\n",
      "  NumberOfComponents: 1\n",
      "  Information: 0000000000000000\n",
      "  Name: (none)\n",
      "  Number Of Components: 1\n",
      "  Number Of Tuples: 39321600\n",
      "  Size: 39321600\n",
      "  MaxId: 39321599\n",
      "  LookupTable: (none)\n",
      "  Array: 0000000025EBB040\n",
      "\n",
      "\n"
     ]
    },
    {
     "name": "stderr",
     "output_type": "stream",
     "text": [
      "C:\\Users\\hp\\Anaconda3\\envs\\python2\\lib\\site-packages\\vtk\\util\\numpy_support.py:134: FutureWarning:\n",
      "\n",
      "Conversion of the second argument of issubdtype from `complex` to `np.complexfloating` is deprecated. In future, it will be treated as `np.complex128 == np.dtype(complex).type`.\n",
      "\n"
     ]
    },
    {
     "data": {
      "text/plain": [
       "0"
      ]
     },
     "execution_count": 10,
     "metadata": {},
     "output_type": "execute_result"
    }
   ],
   "source": [
    "print ArrayDicom.shape\n",
    "Newarray=ma.masked_outside(ArrayDicom, 400,1000,copy=True)\n",
    "\n",
    "NP_data = numpy_support.numpy_to_vtk(Newarray.ravel(), deep=True, array_type=vtk.VTK_SHORT)\n",
    "\n",
    "print NP_data\n",
    "\n",
    "\n",
    "imageVTK = vtk.vtkImageData()\n",
    "imageVTK.SetSpacing(ConstPixelSpacing)\n",
    "imageVTK.SetOrigin(reader.GetDataOrigin())\n",
    "imageVTK.SetDimensions(ConstPixelDims)\n",
    "imageVTK.GetPointData().SetScalars(NP_data)"
   ]
  },
  {
   "cell_type": "code",
   "execution_count": 11,
   "metadata": {},
   "outputs": [],
   "source": [
    "contourBoneHead = vtk.vtkDiscreteMarchingCubes()\n",
    "contourBoneHead.SetInputData(imageVTK)\n",
    "#contourBoneHead.GenerateValues(1, 1, 1)\n",
    "contourBoneHead.ComputeNormalsOn()\n",
    "contourBoneHead.ComputeScalarsOn()\n",
    "contourBoneHead.SetValue( 0,0)\n",
    "contourBoneHead.Update()\n"
   ]
  },
  {
   "cell_type": "code",
   "execution_count": 12,
   "metadata": {},
   "outputs": [
    {
     "data": {
      "text/plain": [
       "'contourBoneHead = vtk.vtkMarchingCubes()\\n\\ncontourBoneHead.SetInputConnection( reader.GetOutputPort() )\\n\\ncontourBoneHead.ComputeNormalsOn()\\ncontourBoneHead.ComputeScalarsOn()\\n'"
      ]
     },
     "execution_count": 12,
     "metadata": {},
     "output_type": "execute_result"
    }
   ],
   "source": [
    "'''contourBoneHead = vtk.vtkMarchingCubes()\n",
    "\n",
    "contourBoneHead.SetInputConnection( reader.GetOutputPort() )\n",
    "\n",
    "contourBoneHead.ComputeNormalsOn()\n",
    "contourBoneHead.ComputeScalarsOn()\n",
    "'''"
   ]
  },
  {
   "cell_type": "code",
   "execution_count": 13,
   "metadata": {},
   "outputs": [
    {
     "data": {
      "image/png": "[encoded data removed]",
      "text/plain": [
       "<IPython.core.display.Image object>"
      ]
     },
     "execution_count": 13,
     "metadata": {},
     "output_type": "execute_result"
    }
   ],
   "source": [
    "\n",
    "mapper = vtk.vtkPolyDataMapper()\n",
    "mapper.SetInputConnection(contourBoneHead.GetOutputPort())\n",
    "\n",
    "actor = vtk.vtkActor()\n",
    "\n",
    "actor.SetMapper(mapper)\n",
    "actor.GetMapper().ScalarVisibilityOff()\n",
    "actor.GetProperty().SetColor(.5, .4, 0.6)\n",
    "\n",
    "renderer = vtk.vtkRenderer()\n",
    "renderer.AddActor(actor)\n",
    "renderer.SetBackground(0, 0, 0)\n",
    "\n",
    "camera = renderer.MakeCamera()\n",
    "camera.SetPosition(-100.0, 245.5, 500.0)\n",
    "camera.SetFocalPoint(301.0, 245.5, 122.0)\n",
    "camera.SetViewAngle(30)\n",
    "camera.SetRoll(90)\n",
    "renderer.SetActiveCamera(camera)\n",
    "vtk_show(renderer, 500 ,800)"
   ]
  },
  {
   "cell_type": "code",
   "execution_count": 14,
   "metadata": {},
   "outputs": [
    {
     "data": {
      "image/png": "[encoded data removed]",
      "text/plain": [
       "<IPython.core.display.Image object>"
      ]
     },
     "execution_count": 14,
     "metadata": {},
     "output_type": "execute_result"
    }
   ],
   "source": [
    "camera = renderer.GetActiveCamera()\n",
    "camera.SetPosition(301.0, 1045.0, 122.0)\n",
    "camera.SetFocalPoint(301.0, 245.5, 122.0)\n",
    "camera.SetViewAngle(30.0)\n",
    "camera.SetRoll(0.0)\n",
    "renderer.SetActiveCamera(camera)\n",
    "vtk_show(renderer, 400, 400)"
   ]
  },
  {
   "cell_type": "code",
   "execution_count": 15,
   "metadata": {},
   "outputs": [
    {
     "data": {
      "text/plain": [
       "'writer = vtk.vtkSTLWriter()\\nwriter.SetInputConnection(contourBoneHead.GetOutputPort())\\nwriter.SetFileTypeToBinary()\\nwriter.SetFileName(\"ankle__clipped data.stl\")\\nwriter.Write()'"
      ]
     },
     "execution_count": 15,
     "metadata": {},
     "output_type": "execute_result"
    }
   ],
   "source": [
    "'''writer = vtk.vtkSTLWriter()\n",
    "writer.SetInputConnection(contourBoneHead.GetOutputPort())\n",
    "writer.SetFileTypeToBinary()\n",
    "writer.SetFileName(\"ankle__clipped data.stl\")\n",
    "writer.Write()'''"
   ]
  },
  {
   "cell_type": "code",
   "execution_count": null,
   "metadata": {},
   "outputs": [],
   "source": [
    "renderer_window = vtk.vtkRenderWindow()\n",
    "renderer_window.AddRenderer(renderer) \n",
    "renderer_interactor = vtk.vtkRenderWindowInteractor()\n",
    "style = MouseInteractorHighLightActor() \n",
    "style.SetDefaultRenderer(renderer)\n",
    "renderer_interactor.SetInteractorStyle(style)\n",
    "\n",
    "renderer_interactor.SetRenderWindow(renderer_window)\n",
    "renderer.SetBackground(1,1,1)\n",
    "renderer_window.SetSize(500,600)\n",
    "renderer_interactor.Initialize()\n",
    "renderer_window.Render()\n",
    "renderer_interactor.Start()\n"
   ]
  },
  {
   "cell_type": "code",
   "execution_count": null,
   "metadata": {},
   "outputs": [],
   "source": []
  }
 ],
 "metadata": {
  "kernelspec": {
   "display_name": "Python 2",
   "language": "python",
   "name": "python2"
  },
  "language_info": {
   "codemirror_mode": {
    "name": "ipython",
    "version": 2
   },
   "file_extension": ".py",
   "mimetype": "text/x-python",
   "name": "python",
   "nbconvert_exporter": "python",
   "pygments_lexer": "ipython2",
   "version": "2.7.15"
  }
 },
 "nbformat": 4,
 "nbformat_minor": 2
}
